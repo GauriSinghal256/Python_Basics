{
 "cells": [
  {
   "cell_type": "code",
   "execution_count": 1,
   "id": "a111ecf3",
   "metadata": {},
   "outputs": [],
   "source": [
    "import numpy as np"
   ]
  },
  {
   "cell_type": "code",
   "execution_count": 2,
   "id": "64f4a125",
   "metadata": {},
   "outputs": [
    {
     "name": "stdout",
     "output_type": "stream",
     "text": [
      "[1 2 3 4 5]\n",
      "[[1 2 3]\n",
      " [4 5 6]]\n"
     ]
    }
   ],
   "source": [
    "arr_1d = np.array([1,2,3,4,5])\n",
    "print(arr_1d)\n",
    "\n",
    "arr_2d = np.array([[1,2,3],[4,5,6]])\n",
    "print(arr_2d)"
   ]
  },
  {
   "cell_type": "markdown",
   "id": "d27cc8ee",
   "metadata": {},
   "source": [
    "### Difference between List and Array(numpy)"
   ]
  },
  {
   "cell_type": "code",
   "execution_count": 4,
   "id": "877e0de3",
   "metadata": {},
   "outputs": [
    {
     "name": "stdout",
     "output_type": "stream",
     "text": [
      "Python list multiplication [1, 2, 3, 1, 2, 3]\n",
      "Python array multiplication [2 4 6]\n",
      "/n List operation time: 0.08037090301513672\n",
      "/n Numpy operation time: 0.007529735565185547\n"
     ]
    }
   ],
   "source": [
    "py_list = [1,2,3]\n",
    "print(\"Python list multiplication\" , py_list*2)\n",
    "\n",
    "np_array = np.array([1,2,3])\n",
    "print(\"Python array multiplication\" , np_array*2)\n",
    "\n",
    "import time\n",
    "start = time.time()\n",
    "py_list = [i*2 for i in range(1000000)]\n",
    "print(\"/n List operation time:\" , time.time() - start)\n",
    "\n",
    "start = time.time()\n",
    "np_array = np.arange(1000000)*2\n",
    "print(\"/n Numpy operation time:\" , time.time() - start)\n"
   ]
  },
  {
   "cell_type": "markdown",
   "id": "cd6ca896",
   "metadata": {},
   "source": [
    "## Creating Array from Scratch\n"
   ]
  },
  {
   "cell_type": "code",
   "execution_count": 8,
   "id": "b0c331eb",
   "metadata": {},
   "outputs": [
    {
     "name": "stdout",
     "output_type": "stream",
     "text": [
      "Zeros array: \n",
      " [[0. 0. 0. 0.]\n",
      " [0. 0. 0. 0.]\n",
      " [0. 0. 0. 0.]]\n",
      "Ones array: \n",
      " [[1. 1. 1. 1.]\n",
      " [1. 1. 1. 1.]\n",
      " [1. 1. 1. 1.]]\n",
      "Full array: \n",
      " [[7 7]\n",
      " [7 7]]\n",
      "[[0.35522921 0.45991026 0.15217126]\n",
      " [0.92644781 0.99714479 0.82009725]]\n",
      "[0 1 2 3 4 5 6 7 8 9]\n",
      "[0 2 4 6 8]\n"
     ]
    }
   ],
   "source": [
    "zeroes = np.zeros((3,4))\n",
    "print(\"Zeros array: \\n\",zeroes)\n",
    "\n",
    "ones = np.ones((3,4))\n",
    "print(\"Ones array: \\n\",ones)\n",
    "\n",
    "full = np.full((2,2),7)\n",
    "print(\"Full array: \\n\",full)\n",
    "\n",
    "random = np.random.random((2,3))\n",
    "print(random)\n",
    "\n",
    "seq1 = np.arange(0,10)\n",
    "print(seq1)\n",
    "\n",
    "seq2 = np.arange(0,10,2)\n",
    "print(seq2)"
   ]
  },
  {
   "cell_type": "markdown",
   "id": "28997dda",
   "metadata": {},
   "source": [
    "## Vector , Matrix and tensor \n"
   ]
  },
  {
   "cell_type": "code",
   "execution_count": 10,
   "id": "f95a74ff",
   "metadata": {},
   "outputs": [
    {
     "name": "stdout",
     "output_type": "stream",
     "text": [
      "Vector:\n",
      " [1 2 3]\n",
      "Matrix: [[1 2 3]\n",
      " [4 5 6]]\n",
      "tensor \n",
      " [[[1 2]\n",
      "  [3 4]]\n",
      "\n",
      " [[5 6]\n",
      "  [7 8]]]\n"
     ]
    }
   ],
   "source": [
    "vector = np.array([1,2,3])\n",
    "print('Vector:\\n',vector)\n",
    "\n",
    "matrix = np.array([[1,2,3],[4,5,6]])\n",
    "print(\"Matrix:\", matrix)\n",
    "\n",
    "tensor = np.array([[[1,2],[3,4]],\n",
    "                   [[5,6],[7,8]]])\n",
    "print(\"tensor \\n\",tensor)\n"
   ]
  },
  {
   "cell_type": "markdown",
   "id": "cb8a9697",
   "metadata": {},
   "source": [
    "## Array Properties "
   ]
  },
  {
   "cell_type": "code",
   "execution_count": 11,
   "id": "87026024",
   "metadata": {},
   "outputs": [
    {
     "name": "stdout",
     "output_type": "stream",
     "text": [
      "Shape (2, 3)\n",
      "Dimension 2\n",
      "Size 6\n",
      "Dtype int64\n"
     ]
    }
   ],
   "source": [
    "arr = np.array([[1,2,3],[4,5,6]])\n",
    "\n",
    "print(\"Shape\" , arr.shape)\n",
    "print(\"Dimension\" , arr.ndim)\n",
    "print(\"Size\" , arr.size)\n",
    "print(\"Dtype\" , arr.dtype)"
   ]
  },
  {
   "cell_type": "markdown",
   "id": "be24c447",
   "metadata": {},
   "source": [
    "## Array Reshaping "
   ]
  },
  {
   "cell_type": "code",
   "execution_count": 15,
   "id": "69cd17a0",
   "metadata": {},
   "outputs": [
    {
     "name": "stdout",
     "output_type": "stream",
     "text": [
      "Original Array [ 0  1  2  3  4  5  6  7  8  9 10 11]\n",
      "\n",
      " Reshaped Array [[ 0  1  2  3]\n",
      " [ 4  5  6  7]\n",
      " [ 8  9 10 11]]\n",
      "[ 0  1  2  3  4  5  6  7  8  9 10 11]\n",
      "[ 0  1  2  3  4  5  6  7  8  9 10 11]\n",
      "[[ 0  4  8]\n",
      " [ 1  5  9]\n",
      " [ 2  6 10]\n",
      " [ 3  7 11]]\n"
     ]
    }
   ],
   "source": [
    "arr = np.arange(12)\n",
    "print(\"Original Array\" , arr)\n",
    "\n",
    "reshaped = arr.reshape((3,4))\n",
    "print(\"\\n Reshaped Array\" , reshaped)\n",
    "\n",
    "flattened = reshaped.flatten()\n",
    "print(flattened)\n",
    "\n",
    "# reval return view instead of copy \n",
    "reveled = reshaped.ravel()\n",
    "print(reveled)\n",
    "\n",
    "# transpose\n",
    "transposr = reshaped.T\n",
    "print(transposr)\n"
   ]
  }
 ],
 "metadata": {
  "kernelspec": {
   "display_name": "Python 3",
   "language": "python",
   "name": "python3"
  },
  "language_info": {
   "codemirror_mode": {
    "name": "ipython",
    "version": 3
   },
   "file_extension": ".py",
   "mimetype": "text/x-python",
   "name": "python",
   "nbconvert_exporter": "python",
   "pygments_lexer": "ipython3",
   "version": "3.13.5"
  }
 },
 "nbformat": 4,
 "nbformat_minor": 5
}
