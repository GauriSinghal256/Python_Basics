{
 "cells": [
  {
   "cell_type": "markdown",
   "id": "c746a77f",
   "metadata": {},
   "source": [
    "## Numpy Array Operations"
   ]
  },
  {
   "cell_type": "code",
   "execution_count": 2,
   "id": "4fb4964c",
   "metadata": {},
   "outputs": [],
   "source": [
    "import numpy as np"
   ]
  },
  {
   "cell_type": "code",
   "execution_count": null,
   "id": "15239f98",
   "metadata": {},
   "outputs": [
    {
     "name": "stdout",
     "output_type": "stream",
     "text": [
      "Basic Slicing [3 4 5 6 7]\n",
      "With step [2 4 6 8]\n",
      "negative Indexing 8\n"
     ]
    }
   ],
   "source": [
    "\n",
    "arr = np.array([1,2,3,4,5,6,7,8,9,10])\n",
    "print(\"Basic Slicing\" , arr[2:7])\n",
    "print(\"With step\" , arr[1:8:2])\n",
    "print(\"negative Indexing\" , arr[-3])"
   ]
  },
  {
   "cell_type": "code",
   "execution_count": 5,
   "id": "58c3ab89",
   "metadata": {},
   "outputs": [
    {
     "name": "stdout",
     "output_type": "stream",
     "text": [
      "Specific element 6\n",
      "Entire Row [4 5 6]\n",
      "Entire Col [2 5 8]\n"
     ]
    }
   ],
   "source": [
    "arr_2d = np.array([[1,2,3],\n",
    "                   [4,5,6],\n",
    "                   [7,8,9]])\n",
    "print(\"Specific element\" , arr_2d[1,2])\n",
    "print(\"Entire Row\", arr_2d[1])\n",
    "print(\"Entire Col\", arr_2d[:,1])"
   ]
  },
  {
   "cell_type": "markdown",
   "id": "5ac71bcc",
   "metadata": {},
   "source": [
    "## Sorting"
   ]
  },
  {
   "cell_type": "code",
   "execution_count": 9,
   "id": "d27c3381",
   "metadata": {},
   "outputs": [
    {
     "name": "stdout",
     "output_type": "stream",
     "text": [
      "Sorted array [ 1  2  3  4  5  6  7 10]\n",
      "Sorted 2d_matrix by column [[1 1]\n",
      " [2 2]\n",
      " [3 3]]\n",
      "Sorted 2d_matrix by row [[1 3]\n",
      " [1 2]\n",
      " [2 3]]\n"
     ]
    }
   ],
   "source": [
    "unsorted = ([3,4,2,1,6,7,10,5])\n",
    "print(\"Sorted array\" , np.sort(unsorted))\n",
    "\n",
    "arr_2d = np.array([[3,1] , [1,2] , [2,3]])\n",
    "print(\"Sorted 2d_matrix by column\" , np.sort(arr_2d , axis=0))\n",
    "print(\"Sorted 2d_matrix by row\" , np.sort(arr_2d , axis=1))"
   ]
  },
  {
   "cell_type": "markdown",
   "id": "e7a4eab8",
   "metadata": {},
   "source": [
    "## Filter"
   ]
  },
  {
   "cell_type": "code",
   "execution_count": 4,
   "id": "f87dbce7",
   "metadata": {},
   "outputs": [
    {
     "name": "stdout",
     "output_type": "stream",
     "text": [
      "Even Numbers [ 2  4  6  8 10]\n"
     ]
    }
   ],
   "source": [
    "numbers = np.array([1,2,3,4,5,6,7,8,9,10])\n",
    "even = numbers[numbers %2 == 0]\n",
    "print(\"Even Numbers\" , even)\n"
   ]
  },
  {
   "cell_type": "markdown",
   "id": "b20a475c",
   "metadata": {},
   "source": [
    "## Filter with Mask"
   ]
  },
  {
   "cell_type": "code",
   "execution_count": 5,
   "id": "7a27460f",
   "metadata": {},
   "outputs": [
    {
     "name": "stdout",
     "output_type": "stream",
     "text": [
      "Numbers greater than 5 [ 6  7  8  9 10]\n"
     ]
    }
   ],
   "source": [
    "mask = numbers > 5\n",
    "print(\"Numbers greater than 5\" , numbers[mask])"
   ]
  },
  {
   "cell_type": "markdown",
   "id": "288bb926",
   "metadata": {},
   "source": [
    " ## Fancy indexing vs np.where()"
   ]
  },
  {
   "cell_type": "code",
   "execution_count": 6,
   "id": "0dfdc26b",
   "metadata": {},
   "outputs": [
    {
     "name": "stdout",
     "output_type": "stream",
     "text": [
      "[1 3 5]\n",
      "(array([5, 6, 7, 8, 9]),)\n",
      "[ 6  7  8  9 10]\n"
     ]
    }
   ],
   "source": [
    "indices = [0,2,4]\n",
    "print(numbers[indices])\n",
    "\n",
    "where_result = np.where(numbers>5)\n",
    "print(where_result)\n",
    "print(numbers[where_result])"
   ]
  },
  {
   "cell_type": "code",
   "execution_count": 7,
   "id": "e7cb7928",
   "metadata": {},
   "outputs": [
    {
     "name": "stdout",
     "output_type": "stream",
     "text": [
      "[ 1  2  3  4  5 12 14 16 18 20]\n"
     ]
    }
   ],
   "source": [
    "condition_array = np.where(numbers > 5 ,numbers*2 , numbers)\n",
    "print(condition_array)"
   ]
  },
  {
   "cell_type": "code",
   "execution_count": null,
   "id": "28865149",
   "metadata": {},
   "outputs": [],
   "source": [
    "# where clause executes the above statement like this \n",
    "if(numbers > 5):\n",
    "    numbers*2\n",
    "else:\n",
    "    numbers\n"
   ]
  },
  {
   "cell_type": "markdown",
   "id": "fc5b86db",
   "metadata": {},
   "source": [
    "## Adding and Removing Data"
   ]
  },
  {
   "cell_type": "code",
   "execution_count": 8,
   "id": "4e10d6d9",
   "metadata": {},
   "outputs": [
    {
     "name": "stdout",
     "output_type": "stream",
     "text": [
      "[5 7 9]\n",
      "[1 2 3 4 5 6]\n"
     ]
    }
   ],
   "source": [
    "arr1 = np.array([1,2,3])\n",
    "arr2 = np.array([4,5,6])\n",
    "\n",
    "sum = arr1+ arr2 \n",
    "print(sum)\n",
    "\n",
    "combined = np.concatenate((arr1 , arr2))\n",
    "print(combined)\n"
   ]
  },
  {
   "cell_type": "markdown",
   "id": "1e943f32",
   "metadata": {},
   "source": [
    "## Array Compatibility "
   ]
  },
  {
   "cell_type": "code",
   "execution_count": 10,
   "id": "da679f57",
   "metadata": {},
   "outputs": [
    {
     "name": "stdout",
     "output_type": "stream",
     "text": [
      "Compatibility shapes True\n",
      "Compatibility shapes False\n"
     ]
    }
   ],
   "source": [
    "a = np.array([1,2,3])\n",
    "b = np.array([4,5,6])\n",
    "c = np.array([7,8,9,10])\n",
    "\n",
    "print(\"Compatibility shapes\" , a.shape == b.shape)\n",
    "print(\"Compatibility shapes\" , a.shape == c.shape)\n"
   ]
  },
  {
   "cell_type": "markdown",
   "id": "d9079c29",
   "metadata": {},
   "source": [
    "## Adding new Row and Col"
   ]
  },
  {
   "cell_type": "code",
   "execution_count": 13,
   "id": "ca216913",
   "metadata": {},
   "outputs": [
    {
     "name": "stdout",
     "output_type": "stream",
     "text": [
      "[[1 2]\n",
      " [3 4]]\n",
      "\n",
      "\n",
      "[[1 2]\n",
      " [3 4]\n",
      " [5 6]]\n",
      "[[1 2 7]\n",
      " [3 4 8]]\n"
     ]
    }
   ],
   "source": [
    "original = np.array([[1,2] , [3,4]])\n",
    "new_row = np.array([5,6])\n",
    "\n",
    "# vstack is used to add a row \n",
    "with_new_row = np.vstack((original , new_row))\n",
    "print(original)\n",
    "print('\\n')\n",
    "print(with_new_row)\n",
    "\n",
    "new_col = np.array([[7] , [8]])\n",
    "with_new_col = np.hstack((original , new_col))\n",
    "print(with_new_col)"
   ]
  },
  {
   "cell_type": "markdown",
   "id": "96184218",
   "metadata": {},
   "source": [
    "## Delete"
   ]
  },
  {
   "cell_type": "code",
   "execution_count": 14,
   "id": "3b84815c",
   "metadata": {},
   "outputs": [
    {
     "name": "stdout",
     "output_type": "stream",
     "text": [
      "[1 2 4 5]\n"
     ]
    }
   ],
   "source": [
    "arr = np.array([1,2,3,4,5])\n",
    "# here deleted array is returned instead of the deleted value \n",
    "deleted = np.delete(arr , 2)\n",
    "print(deleted)"
   ]
  }
 ],
 "metadata": {
  "kernelspec": {
   "display_name": "Python 3",
   "language": "python",
   "name": "python3"
  },
  "language_info": {
   "codemirror_mode": {
    "name": "ipython",
    "version": 3
   },
   "file_extension": ".py",
   "mimetype": "text/x-python",
   "name": "python",
   "nbconvert_exporter": "python",
   "pygments_lexer": "ipython3",
   "version": "3.13.5"
  }
 },
 "nbformat": 4,
 "nbformat_minor": 5
}
