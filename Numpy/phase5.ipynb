{
 "cells": [
  {
   "cell_type": "code",
   "execution_count": 1,
   "id": "4541fa10",
   "metadata": {},
   "outputs": [],
   "source": [
    "import numpy as np\n",
    "\n",
    "# Army strength (in thousands) in 3 regions over 4 months\n",
    "data = np.array([[50, 55, 60, 58],\n",
    "                 [40, 42, 44, 43],\n",
    "                 [70, 72, 75, 78]])\n",
    "\n",
    "# Tasks:\n",
    "# 1. Print total soldiers in each month\n",
    "# 2. Average strength of each region\n",
    "# 3. Month with highest total strength\n",
    "# 4. Which region had most growth?\n",
    "# 5. Add 5% reinforcement to all numbers (use broadcasting)\n"
   ]
  },
  {
   "cell_type": "markdown",
   "id": "a00ef1d8",
   "metadata": {},
   "source": [
    "#  Print total soldiers in each month"
   ]
  },
  {
   "cell_type": "code",
   "execution_count": null,
   "id": "62d8c973",
   "metadata": {},
   "outputs": [
    {
     "name": "stdout",
     "output_type": "stream",
     "text": [
      "223\n",
      "169\n",
      "295\n",
      "[223 169 295]\n"
     ]
    }
   ],
   "source": [
    "for i in range(3):\n",
    "    print(sum(data[i]))\n",
    "\n",
    "total = np.sum(data[: , :] , axis =1)\n",
    "print(total) "
   ]
  },
  {
   "cell_type": "markdown",
   "id": "fe3e82db",
   "metadata": {},
   "source": [
    "# Average strength of each region"
   ]
  },
  {
   "cell_type": "code",
   "execution_count": 7,
   "id": "0458d67d",
   "metadata": {},
   "outputs": [
    {
     "name": "stdout",
     "output_type": "stream",
     "text": [
      "[55.75 42.25 73.75]\n"
     ]
    }
   ],
   "source": [
    "total = np.average(data[: , :] , axis =1)\n",
    "print(total) "
   ]
  },
  {
   "cell_type": "markdown",
   "id": "5e62d871",
   "metadata": {},
   "source": [
    "# Month with highest total strength"
   ]
  },
  {
   "cell_type": "code",
   "execution_count": 9,
   "id": "7a0829da",
   "metadata": {},
   "outputs": [
    {
     "name": "stdout",
     "output_type": "stream",
     "text": [
      "Month 3 has the highest total strength: 179k soldiers\n"
     ]
    }
   ],
   "source": [
    "monthly_totals = np.sum(data, axis=0)\n",
    "max_month_index = np.argmax(monthly_totals)\n",
    "print(f\"Month {max_month_index + 1} has the highest total strength: {monthly_totals[max_month_index]}k soldiers\")\n"
   ]
  },
  {
   "cell_type": "markdown",
   "id": "3937a74b",
   "metadata": {},
   "source": [
    "# Which region had most growth?"
   ]
  },
  {
   "cell_type": "code",
   "execution_count": 10,
   "id": "f68fb131",
   "metadata": {},
   "outputs": [
    {
     "name": "stdout",
     "output_type": "stream",
     "text": [
      "Growth for each region: [8 3 8]\n",
      "Region 1 had the highest growth: 8k soldiers\n"
     ]
    }
   ],
   "source": [
    "growth = data[:, -1] - data[:, 0]\n",
    "print(\"Growth for each region:\", growth)\n",
    "\n",
    "# Find the region with the most growth:\n",
    "max_growth_index = np.argmax(growth)\n",
    "print(f\"Region {max_growth_index + 1} had the highest growth: {growth[max_growth_index]}k soldiers\")\n"
   ]
  },
  {
   "cell_type": "markdown",
   "id": "2dfec53d",
   "metadata": {},
   "source": [
    "# Add 5% reinforcement to all numbers (use broadcasting)"
   ]
  },
  {
   "cell_type": "code",
   "execution_count": 11,
   "id": "a5407d75",
   "metadata": {},
   "outputs": [
    {
     "name": "stdout",
     "output_type": "stream",
     "text": [
      "[[52 57 63 60]\n",
      " [42 44 46 45]\n",
      " [73 75 78 81]]\n"
     ]
    }
   ],
   "source": [
    "reinforced_data = data * 1.05\n",
    "print(reinforced_data.astype(int)) \n"
   ]
  }
 ],
 "metadata": {
  "kernelspec": {
   "display_name": "Python 3",
   "language": "python",
   "name": "python3"
  },
  "language_info": {
   "codemirror_mode": {
    "name": "ipython",
    "version": 3
   },
   "file_extension": ".py",
   "mimetype": "text/x-python",
   "name": "python",
   "nbconvert_exporter": "python",
   "pygments_lexer": "ipython3",
   "version": "3.13.5"
  }
 },
 "nbformat": 4,
 "nbformat_minor": 5
}
