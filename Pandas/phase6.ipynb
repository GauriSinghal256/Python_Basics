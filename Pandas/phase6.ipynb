{
 "cells": [
  {
   "cell_type": "markdown",
   "id": "2c3184aa",
   "metadata": {},
   "source": [
    "## Adding and removing rows and cols"
   ]
  }
 ],
 "metadata": {
  "language_info": {
   "name": "python"
  }
 },
 "nbformat": 4,
 "nbformat_minor": 5
}
