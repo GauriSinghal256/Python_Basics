{
 "cells": [
  {
   "cell_type": "markdown",
   "id": "26cbcfb5",
   "metadata": {},
   "source": [
    "## Read a file "
   ]
  },
  {
   "cell_type": "code",
   "execution_count": 1,
   "id": "ce8d5b29",
   "metadata": {},
   "outputs": [
    {
     "name": "stdout",
     "output_type": "stream",
     "text": [
      "Hey I just made a new file \n"
     ]
    }
   ],
   "source": [
    "f = open(\"file.txt\")\n",
    "data = f.read()\n",
    "print(data)\n",
    "f.close()\n",
    "\n",
    "# here basically the default mode is read \n",
    "# f = open(\"file.txt\" , \"r\")"
   ]
  },
  {
   "cell_type": "markdown",
   "id": "3a27ac6e",
   "metadata": {},
   "source": [
    "## Writing in a file"
   ]
  },
  {
   "cell_type": "code",
   "execution_count": 2,
   "id": "da1dc509",
   "metadata": {},
   "outputs": [],
   "source": [
    "st = \"Now I am going to add this data to my file\"\n",
    "f = open(\"myfile.txt\" , \"w\")\n",
    "f.write(st)\n",
    "f.close()\n"
   ]
  },
  {
   "cell_type": "markdown",
   "id": "efdb17a6",
   "metadata": {},
   "source": [
    "### Read Line"
   ]
  },
  {
   "cell_type": "code",
   "execution_count": 3,
   "id": "e65040e6",
   "metadata": {},
   "outputs": [
    {
     "name": "stdout",
     "output_type": "stream",
     "text": [
      "['Hey I just made a new file \\n', 'I am second line\\n', 'I am the third one \\n', \"here's meet me I am the forth one \\n\", 'Dont forget me I also exist . Myself the fifth one \\n'] <class 'list'>\n"
     ]
    }
   ],
   "source": [
    "f = open(\"file.txt\")\n",
    "lines = f.readlines()\n",
    "print(lines , type(lines))\n",
    "f.close()"
   ]
  },
  {
   "cell_type": "code",
   "execution_count": 6,
   "id": "1ebef2dd",
   "metadata": {},
   "outputs": [
    {
     "name": "stdout",
     "output_type": "stream",
     "text": [
      "Hey I just made a new file \n",
      " <class 'str'>\n",
      "I am second line\n",
      " <class 'str'>\n",
      "I am the third one \n",
      " <class 'str'>\n",
      "here's meet me I am the forth one \n",
      " <class 'str'>\n",
      "Dont forget me I also exist . Myself the fifth one \n",
      " <class 'str'>\n",
      " <class 'str'>\n"
     ]
    }
   ],
   "source": [
    "f = open(\"file.txt\")\n",
    "line1 = f.readline()\n",
    "print(line1 , type(line1))\n",
    "line2 = f.readline()\n",
    "print(line2 , type(line2))\n",
    "line3 = f.readline()\n",
    "print(line3 , type(line3))\n",
    "line4 = f.readline()\n",
    "print(line4 , type(line4))\n",
    "line5 = f.readline()\n",
    "print(line5 , type(line5))\n",
    "line6 = f.readline()\n",
    "print(line6 , type(line6))\n",
    "f.close()"
   ]
  },
  {
   "cell_type": "code",
   "execution_count": 8,
   "id": "5f5e71d6",
   "metadata": {},
   "outputs": [
    {
     "name": "stdout",
     "output_type": "stream",
     "text": [
      "Hey I just made a new file \n",
      "\n",
      "I am second line\n",
      "\n",
      "I am the third one \n",
      "\n",
      "here's meet me I am the forth one \n",
      "\n",
      "Dont forget me I also exist . Myself the fifth one \n",
      "\n"
     ]
    }
   ],
   "source": [
    "f = open(\"file.txt\")\n",
    "line = f.readline()\n",
    "while(line!=\"\"):\n",
    "    print(line)\n",
    "    line = f.readline()\n",
    "f.close()    "
   ]
  },
  {
   "cell_type": "code",
   "execution_count": 10,
   "id": "8d505586",
   "metadata": {},
   "outputs": [],
   "source": [
    "st = \" Hellloooooooooooooo\"\n",
    "f = open(\"myfile.txt\" , \"a\")\n",
    "f.write(st)\n",
    "f.close()"
   ]
  },
  {
   "cell_type": "markdown",
   "id": "752a33d2",
   "metadata": {},
   "source": [
    "# with statement"
   ]
  },
  {
   "cell_type": "code",
   "execution_count": 11,
   "id": "9a2a7284",
   "metadata": {},
   "outputs": [
    {
     "name": "stdout",
     "output_type": "stream",
     "text": [
      "Hey I just made a new file \n",
      "I am second line\n",
      "I am the third one \n",
      "here's meet me I am the forth one \n",
      "Dont forget me I also exist . Myself the fifth one \n",
      "\n"
     ]
    }
   ],
   "source": [
    "with open(\"file.txt\") as f:\n",
    "    print(f.read())\n",
    "\n",
    "    #You dont need to explicitely close the file "
   ]
  },
  {
   "cell_type": "code",
   "execution_count": 14,
   "id": "8a3b7f81",
   "metadata": {},
   "outputs": [
    {
     "name": "stdout",
     "output_type": "stream",
     "text": [
      "Twinkle is present\n"
     ]
    }
   ],
   "source": [
    "f = open(\"poem.txt\")\n",
    "c = f.read()\n",
    "if(\"Twinkle\" in c):\n",
    "    print(\"Twinkle is present\")\n",
    "else:\n",
    "    print(\"Twinkle is not present\")\n",
    "f.close()"
   ]
  },
  {
   "cell_type": "code",
   "execution_count": 21,
   "id": "af3ccc16",
   "metadata": {},
   "outputs": [
    {
     "name": "stdout",
     "output_type": "stream",
     "text": [
      "You are playing the game..\n",
      "Your Score: 56\n"
     ]
    },
    {
     "data": {
      "text/plain": [
       "56"
      ]
     },
     "execution_count": 21,
     "metadata": {},
     "output_type": "execute_result"
    }
   ],
   "source": [
    "import random\n",
    "def game():\n",
    "    print(\"You are playing the game..\")\n",
    "    score = random.randint(1,62)\n",
    "    # fetch the highScore \n",
    "    with open(\"hiscore.txt\") as f:\n",
    "        hiscore = f.read()\n",
    "        if(hiscore!=\"\"):\n",
    "            hiscore = int(hiscore)\n",
    "        else:\n",
    "            hiscore=0    \n",
    "    print(f\"Your Score: {score}\")\n",
    "\n",
    "    if(score>hiscore):\n",
    "        # write the hiscore to the file\n",
    "        with open(\"hiscore.txt\" , \"w\") as f:\n",
    "            f.write(str(score))\n",
    "\n",
    "    return score\n",
    "\n",
    "game()"
   ]
  },
  {
   "cell_type": "code",
   "execution_count": 25,
   "id": "beb41b61",
   "metadata": {},
   "outputs": [],
   "source": [
    "def genearteTable(n):\n",
    "    table=\"\"\n",
    "    for i in range(1 , 11):\n",
    "        table+= f\"{n} x {i} = {n*i}\\n\"\n",
    "\n",
    "    with open(f\"tables/table_{n}.txt\" , \"w\") as f:\n",
    "        f.write(table) \n",
    "\n",
    "\n",
    "for i in range(2,21):\n",
    "    genearteTable(i)"
   ]
  }
 ],
 "metadata": {
  "kernelspec": {
   "display_name": "Python 3",
   "language": "python",
   "name": "python3"
  },
  "language_info": {
   "codemirror_mode": {
    "name": "ipython",
    "version": 3
   },
   "file_extension": ".py",
   "mimetype": "text/x-python",
   "name": "python",
   "nbconvert_exporter": "python",
   "pygments_lexer": "ipython3",
   "version": "3.13.5"
  }
 },
 "nbformat": 4,
 "nbformat_minor": 5
}
