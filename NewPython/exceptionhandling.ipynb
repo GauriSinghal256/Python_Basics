{
 "cells": [
  {
   "cell_type": "code",
   "execution_count": 2,
   "id": "27177ab3",
   "metadata": {},
   "outputs": [
    {
     "name": "stdout",
     "output_type": "stream",
     "text": [
      "invalid literal for int() with base 10: 'y'\n",
      "Thankyou\n"
     ]
    }
   ],
   "source": [
    "try:\n",
    "    a = int(input(\"Hey , Enter a number:\"))\n",
    "    print(a)\n",
    "\n",
    "except Exception as e:\n",
    "    print(e)\n",
    "\n",
    "\n",
    "print(\"Thankyou\")    \n"
   ]
  },
  {
   "cell_type": "code",
   "execution_count": 3,
   "id": "d15fe0a4",
   "metadata": {},
   "outputs": [
    {
     "name": "stdout",
     "output_type": "stream",
     "text": [
      "heyyy\n",
      "invalid literal for int() with base 10: 'j'\n",
      "Thankyou\n"
     ]
    }
   ],
   "source": [
    "try:\n",
    "    a = int(input(\"Hey , Enter a number:\"))\n",
    "    print(a)\n",
    "\n",
    "except ValueError as v:\n",
    "    print(\"heyyy\")\n",
    "    print(v)\n",
    "except Exception as e:\n",
    "    print(e)\n",
    "\n",
    "\n",
    "print(\"Thankyou\")    \n"
   ]
  },
  {
   "cell_type": "markdown",
   "id": "8cf3077d",
   "metadata": {},
   "source": [
    "# Raising Exception"
   ]
  },
  {
   "cell_type": "code",
   "execution_count": 5,
   "id": "f7766b0b",
   "metadata": {},
   "outputs": [
    {
     "name": "stdout",
     "output_type": "stream",
     "text": [
      "The diviion of a/b is 8.666666666666666\n"
     ]
    }
   ],
   "source": [
    "a = int(input(\"Enter a number:\"))\n",
    "b = int(input(\"Enter second number:\"))\n",
    "if(b==0):\n",
    "    raise ZeroDivisionError(\"Hey our program is not meant to divide numbers by zero\")\n",
    "else:\n",
    "    print(f\"The diviion of a/b is {a/b}\")"
   ]
  },
  {
   "cell_type": "markdown",
   "id": "cb5e604d",
   "metadata": {},
   "source": [
    "# Try-else"
   ]
  },
  {
   "cell_type": "code",
   "execution_count": 6,
   "id": "9a2baaf8",
   "metadata": {},
   "outputs": [
    {
     "name": "stdout",
     "output_type": "stream",
     "text": [
      "76\n",
      "I am inside else\n"
     ]
    }
   ],
   "source": [
    "try:\n",
    "    a = int(input(\"Hey , Enter a number:\"))\n",
    "    print(a)\n",
    "\n",
    "except Exception as e:\n",
    "    print(e)\n",
    "\n",
    "else:\n",
    "    print(\"I am inside else\")  \n"
   ]
  },
  {
   "cell_type": "markdown",
   "id": "10cd15de",
   "metadata": {},
   "source": [
    "# Finally"
   ]
  },
  {
   "cell_type": "code",
   "execution_count": null,
   "id": "d6854f04",
   "metadata": {},
   "outputs": [
    {
     "name": "stdout",
     "output_type": "stream",
     "text": [
      "67\n",
      "I am inside of finally\n"
     ]
    }
   ],
   "source": [
    "try:\n",
    "    a = int(input(\"Hey , Enter a number:\"))\n",
    "    print(a)\n",
    "\n",
    "except Exception as e:\n",
    "    print(e)\n",
    "\n",
    "finally:\n",
    "    print(\"I am inside of finally\")  \n",
    "\n",
    "# Noe we have one question that without using finally the print code will run so what is the use of finally    \n"
   ]
  },
  {
   "cell_type": "code",
   "execution_count": 9,
   "id": "d5b68a09",
   "metadata": {},
   "outputs": [
    {
     "name": "stdout",
     "output_type": "stream",
     "text": [
      "invalid literal for int() with base 10: 'j'\n",
      "I am inside of finally\n"
     ]
    }
   ],
   "source": [
    "def main():\n",
    "    try:\n",
    "        a = int(input(\"Hey , Enter a number:\"))\n",
    "        print(a)\n",
    "        return\n",
    "\n",
    "    except Exception as e:\n",
    "        print(e)\n",
    "        return\n",
    "\n",
    "    finally:\n",
    "        print(\"I am inside of finally\")  \n",
    "\n",
    "main()        "
   ]
  },
  {
   "cell_type": "code",
   "execution_count": null,
   "id": "256857d2",
   "metadata": {},
   "outputs": [],
   "source": []
  }
 ],
 "metadata": {
  "kernelspec": {
   "display_name": "Python 3",
   "language": "python",
   "name": "python3"
  },
  "language_info": {
   "codemirror_mode": {
    "name": "ipython",
    "version": 3
   },
   "file_extension": ".py",
   "mimetype": "text/x-python",
   "name": "python",
   "nbconvert_exporter": "python",
   "pygments_lexer": "ipython3",
   "version": "3.13.5"
  }
 },
 "nbformat": 4,
 "nbformat_minor": 5
}
