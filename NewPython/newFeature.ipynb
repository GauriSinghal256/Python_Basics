{
 "cells": [
  {
   "cell_type": "markdown",
   "id": "3c207057",
   "metadata": {},
   "source": [
    "# Using Walrus Operator"
   ]
  },
  {
   "cell_type": "code",
   "execution_count": 1,
   "id": "bc195cfe",
   "metadata": {},
   "outputs": [
    {
     "name": "stdout",
     "output_type": "stream",
     "text": [
      "List is too long (5 elements , expected <=3)\n"
     ]
    }
   ],
   "source": [
    "if(n := len([1,2,3,4,5])) > 3:\n",
    "    print(f\"List is too long ({n} elements , expected <=3)\")"
   ]
  },
  {
   "cell_type": "markdown",
   "id": "ead9bea0",
   "metadata": {},
   "source": [
    "# Type Definitions\n",
    "We can explicitely tell the data type of the variable\n"
   ]
  },
  {
   "cell_type": "code",
   "execution_count": null,
   "id": "21a9c9b4",
   "metadata": {},
   "outputs": [],
   "source": [
    "n : int = 5\n",
    "name : str = \"Harry\"\n",
    "\n",
    "def sum(a: int , b:int) -> int:\n",
    "    return a+b\n"
   ]
  },
  {
   "cell_type": "code",
   "execution_count": null,
   "id": "273f3740",
   "metadata": {},
   "outputs": [],
   "source": [
    "from typing import List , Tuple , Dict , Union\n",
    "\n",
    "# List of Integers\n",
    "numbers: List[int] = [1,2,3,4,5]\n",
    "\n",
    "# Tuple of String and integer\n",
    "person : Tuple[str , int] = (\"Alice\" , 30)\n",
    "\n",
    "# Dictionary with string keys and integer values\n",
    "scores: Dict[str , int] = {\"Alice\":90 , \"Bob\":85}\n",
    "\n",
    "# Union type for variiables that can hold multiple types \n",
    "Identifier: Union[int , str] = \"ID123\"\n"
   ]
  },
  {
   "cell_type": "markdown",
   "id": "3cddfbfd",
   "metadata": {},
   "source": [
    "# Match Case "
   ]
  },
  {
   "cell_type": "code",
   "execution_count": 2,
   "id": "c86e8536",
   "metadata": {},
   "outputs": [
    {
     "name": "stdout",
     "output_type": "stream",
     "text": [
      "OK\n",
      "Not Found\n",
      "Internal Server Error\n",
      "Unknown status\n"
     ]
    }
   ],
   "source": [
    "def http_status(status): \n",
    "    match status: \n",
    "        case 200: \n",
    "            return \"OK\" \n",
    "        case 404: \n",
    "            return \"Not Found\" \n",
    "        case 500: \n",
    "            return \"Internal Server Error\" \n",
    "        case _: \n",
    "            return \"Unknown status\" \n",
    " \n",
    "# Usage \n",
    "print(http_status(200))  # Output: OK \n",
    "print(http_status(404))  # Output: Not Found \n",
    "print(http_status(500))  # Output: Internal Server Error \n",
    "print(http_status(403))  # Output: Unknown status \n",
    " \n"
   ]
  },
  {
   "cell_type": "markdown",
   "id": "3545ed83",
   "metadata": {},
   "source": [
    "# Merge Dictionary"
   ]
  },
  {
   "cell_type": "code",
   "execution_count": 3,
   "id": "eaff729d",
   "metadata": {},
   "outputs": [
    {
     "name": "stdout",
     "output_type": "stream",
     "text": [
      "{'a': 1, 'b': 2, 'c': 3, 'd': 4}\n"
     ]
    }
   ],
   "source": [
    "dict1 = {'a':1 , 'b':2}\n",
    "dict2 = {'c':3 , 'd':4}\n",
    "merged = dict1 | dict2\n",
    "print(merged)"
   ]
  },
  {
   "cell_type": "code",
   "execution_count": null,
   "id": "fa7cce92",
   "metadata": {},
   "outputs": [],
   "source": []
  }
 ],
 "metadata": {
  "kernelspec": {
   "display_name": "Python 3",
   "language": "python",
   "name": "python3"
  },
  "language_info": {
   "codemirror_mode": {
    "name": "ipython",
    "version": 3
   },
   "file_extension": ".py",
   "mimetype": "text/x-python",
   "name": "python",
   "nbconvert_exporter": "python",
   "pygments_lexer": "ipython3",
   "version": "3.13.5"
  }
 },
 "nbformat": 4,
 "nbformat_minor": 5
}
