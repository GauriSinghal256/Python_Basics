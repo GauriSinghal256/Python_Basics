{
 "cells": [
  {
   "cell_type": "code",
   "execution_count": 2,
   "id": "25626ae3",
   "metadata": {},
   "outputs": [
    {
     "name": "stdout",
     "output_type": "stream",
     "text": [
      "ITC ITC Infotech\n"
     ]
    }
   ],
   "source": [
    "class Employee:\n",
    "    company = \"ITC\"\n",
    "    def show(self):\n",
    "        print(f\"The name is {self.name} and the salary is {self.salary}\")\n",
    "\n",
    "class Programmer:\n",
    "    company = \"ITC Infotech\"\n",
    "    def show(self):\n",
    "        print(f\"The name is {self.name} and the salary is {self.salary}\")\n",
    "\n",
    "    def showLanguage(self):\n",
    "        print(f\"{self.name} is good at {self.language} language\")  \n",
    "\n",
    "\n",
    "a = Employee()  \n",
    "b = Programmer()\n",
    "\n",
    "print(a.company , b.company)"
   ]
  },
  {
   "cell_type": "markdown",
   "id": "ceac1c81",
   "metadata": {},
   "source": [
    "# INHERITANCE - SINGLE "
   ]
  },
  {
   "cell_type": "code",
   "execution_count": 3,
   "id": "2e0a8260",
   "metadata": {},
   "outputs": [
    {
     "name": "stdout",
     "output_type": "stream",
     "text": [
      "ITC ITC Infotech\n"
     ]
    }
   ],
   "source": [
    "class Employee:\n",
    "    company = \"ITC\"\n",
    "    def show(self):\n",
    "        print(f\"The name is {self.name} and the salary is {self.salary}\")\n",
    "\n",
    "class Programmer(Employee):\n",
    "    company = \"ITC Infotech\"\n",
    "   \n",
    "    def showLanguage(self):\n",
    "        print(f\"{self.name} is good at {self.language} language\")     \n",
    "\n",
    "a = Employee()  \n",
    "b = Programmer()\n",
    "\n",
    "print(a.company , b.company)             "
   ]
  },
  {
   "cell_type": "markdown",
   "id": "de210b53",
   "metadata": {},
   "source": [
    "# Multiple Inheritance"
   ]
  },
  {
   "cell_type": "code",
   "execution_count": 4,
   "id": "d013aef6",
   "metadata": {},
   "outputs": [
    {
     "name": "stdout",
     "output_type": "stream",
     "text": [
      "The name is Default Name and the company is ITC Infotech\n",
      "Out of all the languages here is your language: Python\n",
      "ITC Infotech is good at Python language\n",
      "ITC ITC Infotech\n"
     ]
    }
   ],
   "source": [
    "class Employee:\n",
    "    company = \"ITC\"\n",
    "    name = \"Default Name\"\n",
    "    def show(self):\n",
    "        print(f\"The name is {self.name} and the company is {self.company}\")\n",
    "\n",
    "class Coder:\n",
    "    language = \"Python\"\n",
    "    def printLanguages(self):\n",
    "        print(f\"Out of all the languages here is your language: {self.language}\")\n",
    "\n",
    "class Programmer(Employee , Coder):\n",
    "    company = \"ITC Infotech\"\n",
    "   \n",
    "    def showLanguage(self):\n",
    "        print(f\"{self.company} is good at {self.language} language\")     \n",
    "\n",
    "a = Employee()  \n",
    "b = Programmer()\n",
    "b.show()\n",
    "b.printLanguages()\n",
    "b.showLanguage()\n",
    "\n",
    "print(a.company , b.company)             "
   ]
  },
  {
   "cell_type": "markdown",
   "id": "18957fdf",
   "metadata": {},
   "source": [
    "# Multilevel Inheritance "
   ]
  },
  {
   "cell_type": "code",
   "execution_count": 5,
   "id": "636dbee4",
   "metadata": {},
   "outputs": [
    {
     "name": "stdout",
     "output_type": "stream",
     "text": [
      "Animals make sounds\n",
      "Dog barks\n",
      "Puppy weeps\n"
     ]
    }
   ],
   "source": [
    "# Base class\n",
    "class Animal:\n",
    "    def speak(self):\n",
    "        print(\"Animals make sounds\")\n",
    "\n",
    "# Derived class (Level 1)\n",
    "class Dog(Animal):\n",
    "    def bark(self):\n",
    "        print(\"Dog barks\")\n",
    "\n",
    "# Derived class from Dog (Level 2)\n",
    "class Puppy(Dog):\n",
    "    def weep(self):\n",
    "        print(\"Puppy weeps\")\n",
    "\n",
    "# Creating object of Puppy class\n",
    "p = Puppy()\n",
    "\n",
    "# Calling methods from all levels\n",
    "p.speak()   # from Animal\n",
    "p.bark()    # from Dog\n",
    "p.weep()    # from Puppy\n"
   ]
  },
  {
   "cell_type": "markdown",
   "id": "fc60d7af",
   "metadata": {},
   "source": [
    "# Super Method "
   ]
  },
  {
   "cell_type": "markdown",
   "id": "296fdea7",
   "metadata": {},
   "source": [
    "Using super() to call parent constructor"
   ]
  },
  {
   "cell_type": "code",
   "execution_count": 9,
   "id": "a1aeb64f",
   "metadata": {},
   "outputs": [
    {
     "name": "stdout",
     "output_type": "stream",
     "text": [
      "Constructor of Employee\n",
      "1\n",
      "Constructor of Employee\n",
      "Constructor of Programmer\n",
      "1 2\n",
      "Constructor of Employee\n",
      "Constructor of Programmer\n",
      "Constructor of Manager\n",
      "1 2 3\n"
     ]
    }
   ],
   "source": [
    "class Employee():\n",
    "    def __init__(self):\n",
    "        print(\"Constructor of Employee\")\n",
    "    a = 1\n",
    "\n",
    "\n",
    "class Programmer(Employee):\n",
    "    def __init__(self):\n",
    "        super().__init__()\n",
    "        print(\"Constructor of Programmer\")\n",
    "    b = 2    \n",
    "\n",
    "\n",
    "class Manager(Programmer):\n",
    "    def __init__(self):\n",
    "        super().__init__()\n",
    "        print(\"Constructor of Manager\")\n",
    "    c = 3    \n",
    "\n",
    "\n",
    "o = Employee()\n",
    "print(o.a)    \n",
    "o = Programmer()\n",
    "print(o.a , o.b)    \n",
    "o = Manager()\n",
    "print(o.a , o.b , o.c)    "
   ]
  },
  {
   "cell_type": "markdown",
   "id": "1f20c907",
   "metadata": {},
   "source": [
    "Using super() to call parent method"
   ]
  },
  {
   "cell_type": "code",
   "execution_count": 12,
   "id": "6ffaa30b",
   "metadata": {},
   "outputs": [
    {
     "name": "stdout",
     "output_type": "stream",
     "text": [
      "Animal speaks\n",
      "Dog barks\n"
     ]
    }
   ],
   "source": [
    "class Animal:\n",
    "    def speak(self):\n",
    "        print(\"Animal speaks\")\n",
    "\n",
    "class Dog(Animal):\n",
    "    def speak(self):\n",
    "        super().speak()  # Call speak() of Animal\n",
    "        print(\"Dog barks\")\n",
    "\n",
    "d = Dog()\n",
    "d.speak()\n"
   ]
  },
  {
   "cell_type": "markdown",
   "id": "05c18279",
   "metadata": {},
   "source": [
    "# Class Method"
   ]
  },
  {
   "cell_type": "code",
   "execution_count": null,
   "id": "388a9fd0",
   "metadata": {},
   "outputs": [
    {
     "name": "stdout",
     "output_type": "stream",
     "text": [
      "The class value of a is 45\n"
     ]
    }
   ],
   "source": [
    "class Employee:\n",
    "    a = 1\n",
    "    def show(self):\n",
    "        print(f\"The class value of a is {self.a}\")\n",
    "\n",
    "e = Employee()\n",
    "e.a = 45\n",
    "\n",
    "e.show()\n",
    "\n",
    "# simply if we will run this then it will show a = 45 but we want it show the value of the one which is present in class"
   ]
  },
  {
   "cell_type": "code",
   "execution_count": 11,
   "id": "7ebb81fa",
   "metadata": {},
   "outputs": [
    {
     "name": "stdout",
     "output_type": "stream",
     "text": [
      "The class value of a is 1\n"
     ]
    }
   ],
   "source": [
    "class Employee:\n",
    "    a = 1\n",
    "\n",
    "    @classmethod\n",
    "    def show(self):\n",
    "        print(f\"The class value of a is {self.a}\")\n",
    "\n",
    "e = Employee()\n",
    "e.a = 45\n",
    "\n",
    "e.show()\n"
   ]
  },
  {
   "cell_type": "code",
   "execution_count": 13,
   "id": "8b692557",
   "metadata": {},
   "outputs": [
    {
     "name": "stdout",
     "output_type": "stream",
     "text": [
      "John 20\n",
      "Alice 22\n"
     ]
    }
   ],
   "source": [
    "class Student:\n",
    "    college = \"ABC University\"\n",
    "\n",
    "    def __init__(self, name, age):\n",
    "        self.name = name\n",
    "        self.age = age\n",
    "\n",
    "    @classmethod\n",
    "    def from_string(cls, student_str):\n",
    "        name, age = student_str.split('-')\n",
    "        return cls(name, int(age))\n",
    "\n",
    "# Create object using normal constructor\n",
    "s1 = Student(\"John\", 20)\n",
    "\n",
    "# Create object using class method\n",
    "s2 = Student.from_string(\"Alice-22\")\n",
    "\n",
    "print(s1.name, s1.age)\n",
    "print(s2.name, s2.age)\n"
   ]
  },
  {
   "cell_type": "markdown",
   "id": "4b6876e8",
   "metadata": {},
   "source": [
    "# Property Decorator"
   ]
  },
  {
   "cell_type": "markdown",
   "id": "6d5a4c3a",
   "metadata": {},
   "source": [
    "### 🔹 `@property` Decorator in Python\n",
    "\n",
    "The `@property` decorator is used to define **getter methods** that behave like attributes.  \n",
    "It allows you to **access a method like a variable**, while still giving you control over how the value is computed or returned.\n",
    "\n",
    "---\n",
    "\n",
    "#### ✅ **Why use `@property`?**\n",
    "\n",
    "- 🔒 To encapsulate **private attributes** safely  \n",
    "- 🧠 To perform **custom logic** when accessing values  \n",
    "- 📖 To create:\n",
    "  - **Read-only** properties  \n",
    "  - **Write-only** properties  \n",
    "  - **Read-write** properties\n"
   ]
  },
  {
   "cell_type": "code",
   "execution_count": 14,
   "id": "633d2fbd",
   "metadata": {},
   "outputs": [
    {
     "name": "stdout",
     "output_type": "stream",
     "text": [
      "78.5\n"
     ]
    }
   ],
   "source": [
    "class Circle:\n",
    "    def __init__(self, radius):\n",
    "        self._radius = radius  # protected/private attribute\n",
    "\n",
    "    @property\n",
    "    def area(self):\n",
    "        return 3.14 * self._radius ** 2\n",
    "\n",
    "c = Circle(5)\n",
    "print(c.area)  # Access like an attribute, not c.area()\n"
   ]
  },
  {
   "cell_type": "code",
   "execution_count": 15,
   "id": "7582dc1b",
   "metadata": {},
   "outputs": [
    {
     "name": "stdout",
     "output_type": "stream",
     "text": [
      "Alice\n",
      "Bob\n"
     ]
    }
   ],
   "source": [
    "class Person:\n",
    "    def __init__(self, name):\n",
    "        self._name = name\n",
    "\n",
    "    @property\n",
    "    def name(self):          # Getter\n",
    "        return self._name\n",
    "\n",
    "    @name.setter\n",
    "    def name(self, value):   # Setter\n",
    "        if not value:\n",
    "            raise ValueError(\"Name cannot be empty\")\n",
    "        self._name = value\n",
    "\n",
    "p = Person(\"Alice\")\n",
    "print(p.name)     # uses @property\n",
    "\n",
    "p.name = \"Bob\"    # uses @name.setter\n",
    "print(p.name)\n"
   ]
  },
  {
   "cell_type": "markdown",
   "id": "aed3e04e",
   "metadata": {},
   "source": [
    "## Without decorators:\n",
    "\n",
    "- p.get_name()\n",
    "- p.set_name(\"Bob\")\n",
    "\n",
    "### With @property and @name.setter:\n",
    "\n",
    "- p.name          # Acts like a normal attribute, but actually calls a method\n",
    "- p.name = \"Bob\"  # Also looks like simple assignment, but goes through logicJ"
   ]
  },
  {
   "cell_type": "code",
   "execution_count": 16,
   "id": "cd9f7e0c",
   "metadata": {},
   "outputs": [
    {
     "name": "stdout",
     "output_type": "stream",
     "text": [
      "Python 101\n"
     ]
    }
   ],
   "source": [
    "# If we only use @property without a setter, the property becomes read-only:\n",
    "class Book:\n",
    "    def __init__(self, title):\n",
    "        self._title = title\n",
    "\n",
    "    @property\n",
    "    def title(self):\n",
    "        return self._title\n",
    "\n",
    "b = Book(\"Python 101\")\n",
    "print(b.title)\n",
    "\n",
    "# b.title = \"Java\"  # ❌ This will raise AttributeError\n"
   ]
  },
  {
   "cell_type": "markdown",
   "id": "e7f0b954",
   "metadata": {},
   "source": [
    "# Operator Overloading"
   ]
  },
  {
   "cell_type": "code",
   "execution_count": 19,
   "id": "123dca69",
   "metadata": {},
   "outputs": [
    {
     "name": "stdout",
     "output_type": "stream",
     "text": [
      "46\n"
     ]
    }
   ],
   "source": [
    "class Number:\n",
    "    def __init__(self , n):\n",
    "        self.n = n\n",
    "\n",
    "    def __add__(self , num):\n",
    "        return self.n + num\n",
    "\n",
    "n = Number(1)\n",
    "print(n+45)         "
   ]
  },
  {
   "cell_type": "code",
   "execution_count": 20,
   "id": "f53a2735",
   "metadata": {},
   "outputs": [
    {
     "name": "stdout",
     "output_type": "stream",
     "text": [
      "16 rupees and 25 paise\n"
     ]
    }
   ],
   "source": [
    "class Money:\n",
    "    def __init__(self, rupees, paise):\n",
    "        self.rupees = rupees\n",
    "        self.paise = paise\n",
    "\n",
    "    def __add__(self, other):\n",
    "        total_paise = self.paise + other.paise\n",
    "        total_rupees = self.rupees + other.rupees + total_paise // 100\n",
    "        total_paise = total_paise % 100\n",
    "        return Money(total_rupees, total_paise)\n",
    "\n",
    "    def __str__(self):\n",
    "        return f\"{self.rupees} rupees and {self.paise} paise\"\n",
    "\n",
    "m1 = Money(10, 50)\n",
    "m2 = Money(5, 75)\n",
    "\n",
    "print(m1 + m2)  # ✅ 16 rupees and 25 paise"
   ]
  },
  {
   "cell_type": "code",
   "execution_count": null,
   "id": "6a6317b7",
   "metadata": {},
   "outputs": [],
   "source": []
  }
 ],
 "metadata": {
  "kernelspec": {
   "display_name": "Python 3",
   "language": "python",
   "name": "python3"
  },
  "language_info": {
   "codemirror_mode": {
    "name": "ipython",
    "version": 3
   },
   "file_extension": ".py",
   "mimetype": "text/x-python",
   "name": "python",
   "nbconvert_exporter": "python",
   "pygments_lexer": "ipython3",
   "version": "3.13.5"
  }
 },
 "nbformat": 4,
 "nbformat_minor": 5
}
