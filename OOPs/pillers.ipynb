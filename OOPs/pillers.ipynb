{
 "cells": [
  {
   "cell_type": "markdown",
   "id": "f09ee4a4",
   "metadata": {},
   "source": [
    "# 🔶 1. Encapsulation\n",
    "- Wrapping data and methods that operate on data into a single unit (class).\n",
    "- Protects internal state from unauthorized access/modification."
   ]
  },
  {
   "cell_type": "code",
   "execution_count": null,
   "id": "669d1b17",
   "metadata": {},
   "outputs": [],
   "source": [
    "class BankAccount:\n",
    "    def __init__(self, balance):\n",
    "        self.__balance = balance  # private variable\n",
    "\n",
    "    def deposit(self, amount):\n",
    "        if amount > 0:\n",
    "            self.__balance += amount\n",
    "\n",
    "    def get_balance(self):\n",
    "        return self.__balance\n",
    "\n",
    "acc = BankAccount(1000)\n",
    "acc.deposit(500)\n",
    "print(acc.get_balance())   # 1500\n",
    "# print(acc.__balance)    ❌ Error: can't access private variable directly\n"
   ]
  },
  {
   "cell_type": "code",
   "execution_count": 2,
   "id": "9a021668",
   "metadata": {},
   "outputs": [
    {
     "name": "stdout",
     "output_type": "stream",
     "text": [
      "1000\n"
     ]
    }
   ],
   "source": [
    "class BankAccount:\n",
    "    def __init__(self, balance):\n",
    "        self.__balance = balance\n",
    "\n",
    "acc = BankAccount(1000)\n",
    "\n",
    "# print(acc.__balance)  # ❌ Will raise AttributeError\n",
    "\n",
    "# But we can access it like this (not recommended):\n",
    "print(acc._BankAccount__balance)  # ✅ 1000\n"
   ]
  },
  {
   "cell_type": "code",
   "execution_count": null,
   "id": "9da050b8",
   "metadata": {},
   "outputs": [],
   "source": [
    "class BankAccount:\n",
    "    def __init__(self, balance):\n",
    "        self.__balance = balance\n",
    "\n",
    "    @property\n",
    "    def balance(self):    # now you can use acc.balance\n",
    "        return self.__balance\n",
    "\n",
    "acc = BankAccount(1000)\n",
    "print(acc.balance)  # ✅ Now this works\n"
   ]
  },
  {
   "cell_type": "markdown",
   "id": "88567354",
   "metadata": {},
   "source": [
    "# 🔶 2. Abstraction\n",
    "- Hiding complex implementation and showing only essential features.\n",
    "- Helps reduce complexity for the user."
   ]
  },
  {
   "cell_type": "markdown",
   "id": "e0b9c02f",
   "metadata": {},
   "source": [
    "# 🔶 4. Polymorphism\n",
    "- Same method name behaves differently depending on the object (class).\n",
    "- Achieved using method overriding or method overloading (in some languages)."
   ]
  },
  {
   "cell_type": "code",
   "execution_count": 3,
   "id": "021b233a",
   "metadata": {},
   "outputs": [
    {
     "name": "stdout",
     "output_type": "stream",
     "text": [
      "Chirp chirp\n",
      "Squawk\n"
     ]
    }
   ],
   "source": [
    "class Bird:\n",
    "    def make_sound(self):\n",
    "        print(\"Bird sound\")\n",
    "\n",
    "class Sparrow(Bird):\n",
    "    def make_sound(self):\n",
    "        print(\"Chirp chirp\")\n",
    "\n",
    "class Parrot(Bird):\n",
    "    def make_sound(self):\n",
    "        print(\"Squawk\")\n",
    "\n",
    "def play_sound(bird):\n",
    "    bird.make_sound()\n",
    "\n",
    "play_sound(Sparrow())  # Chirp chirp\n",
    "play_sound(Parrot())   # Squawk\n"
   ]
  }
 ],
 "metadata": {
  "kernelspec": {
   "display_name": "Python 3",
   "language": "python",
   "name": "python3"
  },
  "language_info": {
   "codemirror_mode": {
    "name": "ipython",
    "version": 3
   },
   "file_extension": ".py",
   "mimetype": "text/x-python",
   "name": "python",
   "nbconvert_exporter": "python",
   "pygments_lexer": "ipython3",
   "version": "3.13.5"
  }
 },
 "nbformat": 4,
 "nbformat_minor": 5
}
