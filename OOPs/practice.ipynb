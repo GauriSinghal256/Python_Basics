{
 "cells": [
  {
   "cell_type": "code",
   "execution_count": 10,
   "id": "e30c5f15",
   "metadata": {},
   "outputs": [],
   "source": [
    "from random import randint"
   ]
  },
  {
   "cell_type": "markdown",
   "id": "9932c7bf",
   "metadata": {},
   "source": [
    " Create a class “Programmer” for storing information of few programmers working at Microsoft."
   ]
  },
  {
   "cell_type": "code",
   "execution_count": 2,
   "id": "eea7ae89",
   "metadata": {},
   "outputs": [
    {
     "name": "stdout",
     "output_type": "stream",
     "text": [
      "Gauri 1200000 247001 Microsoft\n"
     ]
    }
   ],
   "source": [
    "class Programmer:\n",
    "    Company = \"Microsoft\"\n",
    "    def __init__(self , name ,salary,pin ):\n",
    "        self.name = name\n",
    "        self.salary = salary \n",
    "        self.pin = pin\n",
    "\n",
    "p = Programmer(\"Gauri\" ,1200000 , 247001)   \n",
    "print(p.name , p.salary , p.pin, p.Company )   "
   ]
  },
  {
   "cell_type": "markdown",
   "id": "30bcf803",
   "metadata": {},
   "source": [
    "Write a class “Calculator” capable of finding square, cube and square root of a number."
   ]
  },
  {
   "cell_type": "code",
   "execution_count": 4,
   "id": "ccf70f57",
   "metadata": {},
   "outputs": [
    {
     "name": "stdout",
     "output_type": "stream",
     "text": [
      "The square is 16\n",
      "The square is 64\n",
      "The square is 2.0\n"
     ]
    }
   ],
   "source": [
    "class Calculator:\n",
    "    def __init__(self, n):\n",
    "        self.n = n\n",
    "    def square(self):\n",
    "        print(f\"The square is {self.n*self.n}\")    \n",
    "    def cube(self):\n",
    "        print(f\"The square is {self.n*self.n*self.n}\")    \n",
    "    def squareroot(self):\n",
    "        print(f\"The square is {self.n**1/2}\")    \n",
    "\n",
    "a = Calculator(4) \n",
    "a.square()\n",
    "a.cube()\n",
    "a.squareroot()\n"
   ]
  },
  {
   "cell_type": "markdown",
   "id": "eee6fc3d",
   "metadata": {},
   "source": [
    "Create a class with a class attribute a; create an object from it and set ‘a’ directly using ‘object.a = 0’. Does this change the class attribute? "
   ]
  },
  {
   "cell_type": "code",
   "execution_count": 5,
   "id": "6cc70f37",
   "metadata": {},
   "outputs": [
    {
     "name": "stdout",
     "output_type": "stream",
     "text": [
      "4\n",
      "0\n"
     ]
    }
   ],
   "source": [
    "class Demo:\n",
    "    a = 4\n",
    "\n",
    "o = Demo()\n",
    "print(o.a)\n",
    "o.a = 0  \n",
    "print(o.a)  \n",
    "# No class atrribute is not changed but an instance attribute is added"
   ]
  },
  {
   "cell_type": "markdown",
   "id": "4e7e667e",
   "metadata": {},
   "source": [
    "Add a static method in problem 2, to greet the user with hello."
   ]
  },
  {
   "cell_type": "code",
   "execution_count": 7,
   "id": "628baeea",
   "metadata": {},
   "outputs": [
    {
     "name": "stdout",
     "output_type": "stream",
     "text": [
      "The square is 16\n",
      "The square is 64\n",
      "The square is 2.0\n",
      "hello there!!\n"
     ]
    }
   ],
   "source": [
    "class Calculator:\n",
    "    @staticmethod\n",
    "\n",
    "    def greet():\n",
    "        print(\"hello there!!\")\n",
    "    def __init__(self, n):\n",
    "        self.n = n\n",
    "    def square(self):\n",
    "        print(f\"The square is {self.n*self.n}\")    \n",
    "    def cube(self):\n",
    "        print(f\"The square is {self.n*self.n*self.n}\")    \n",
    "    def squareroot(self):\n",
    "        print(f\"The square is {self.n**1/2}\")    \n",
    "\n",
    "a = Calculator(4) \n",
    "a.square()\n",
    "a.cube()\n",
    "a.squareroot()\n",
    "a.greet()"
   ]
  },
  {
   "cell_type": "markdown",
   "id": "f590c2b1",
   "metadata": {},
   "source": [
    "Write a Class ‘Train’ which has methods to book a ticket, get status (no of seats) and get fare information of train running under Indian Railways"
   ]
  },
  {
   "cell_type": "code",
   "execution_count": 16,
   "id": "5984103b",
   "metadata": {},
   "outputs": [
    {
     "name": "stdout",
     "output_type": "stream",
     "text": [
      "ticket is booked in train no: 12399 from Saharanpur to Barara\n",
      "Train no 12399 is running on time\n",
      "Ticket is booked in train no: 12399 from Saharanpur to SMVD Katra is ₹5185\n"
     ]
    }
   ],
   "source": [
    "\n",
    "from random import random\n",
    "from random import randint\n",
    "\n",
    "class Train:\n",
    "\n",
    "    def __init__(self , trainNo):\n",
    "       self.trainNo = trainNo\n",
    "\n",
    "    def book(self  , fro , to):\n",
    "        print(f\"ticket is booked in train no: {self.trainNo} from {fro} to {to}\")\n",
    "\n",
    "    def getStatus(self):\n",
    "        print(f\"Train no {self.trainNo} is running on time\")\n",
    "\n",
    "    def getFare(self , fro , to):\n",
    "        print(f\"Ticket is booked in train no: {self.trainNo} from {fro} to {to} is ₹{randint(222, 5555)}\")\n",
    "\n",
    "\n",
    "t = Train(12399)\n",
    "t.book(\"Saharanpur\",\"Barara\")\n",
    "t.getStatus()\n",
    "t.getFare(\"Saharanpur\" , \"SMVD Katra\")\n",
    "\n",
    "\n"
   ]
  }
 ],
 "metadata": {
  "kernelspec": {
   "display_name": "Python 3",
   "language": "python",
   "name": "python3"
  },
  "language_info": {
   "codemirror_mode": {
    "name": "ipython",
    "version": 3
   },
   "file_extension": ".py",
   "mimetype": "text/x-python",
   "name": "python",
   "nbconvert_exporter": "python",
   "pygments_lexer": "ipython3",
   "version": "3.13.5"
  }
 },
 "nbformat": 4,
 "nbformat_minor": 5
}
